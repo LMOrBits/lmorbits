{
 "cells": [
  {
   "cell_type": "code",
   "execution_count": null,
   "metadata": {},
   "outputs": [],
   "source": [
    "from data.utils.lakefs import LakeFSCredentials\n",
    "from dotenv import load_dotenv\n",
    "\n",
    "load_dotenv(Path(\".\").resolve().parent / \"secrets\" / \".env\")\n",
    "credentials = LakeFSCredentials.from_env()"
   ]
  },
  {
   "cell_type": "code",
   "execution_count": null,
   "metadata": {},
   "outputs": [],
   "source": []
  }
 ],
 "metadata": {
  "kernelspec": {
   "display_name": ".venv",
   "language": "python",
   "name": "python3"
  },
  "language_info": {
   "name": "python",
   "version": "3.12.8"
  }
 },
 "nbformat": 4,
 "nbformat_minor": 2
}
